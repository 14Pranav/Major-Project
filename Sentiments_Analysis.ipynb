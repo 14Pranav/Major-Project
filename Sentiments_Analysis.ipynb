{
  "nbformat": 4,
  "nbformat_minor": 0,
  "metadata": {
    "colab": {
      "name": "Sentiments Analysis.ipynb",
      "provenance": [],
      "authorship_tag": "ABX9TyMrJgUSSSxNZRQ/FsRtEgjI",
      "include_colab_link": true
    },
    "kernelspec": {
      "name": "python3",
      "display_name": "Python 3"
    },
    "language_info": {
      "name": "python"
    }
  },
  "cells": [
    {
      "cell_type": "markdown",
      "metadata": {
        "id": "view-in-github",
        "colab_type": "text"
      },
      "source": [
        "<a href=\"https://colab.research.google.com/github/14Pranav/Major-Project/blob/main/Sentiments_Analysis.ipynb\" target=\"_parent\"><img src=\"https://colab.research.google.com/assets/colab-badge.svg\" alt=\"Open In Colab\"/></a>"
      ]
    },
    {
      "cell_type": "code",
      "metadata": {
        "colab": {
          "base_uri": "https://localhost:8080/"
        },
        "id": "vkZpyWotnL3j",
        "outputId": "0afe6905-e1a6-4ea6-d7e8-e06b498fa799"
      },
      "source": [
        "!pip install vaderSentiment"
      ],
      "execution_count": 1,
      "outputs": [
        {
          "output_type": "stream",
          "text": [
            "Collecting vaderSentiment\n",
            "\u001b[?25l  Downloading https://files.pythonhosted.org/packages/76/fc/310e16254683c1ed35eeb97386986d6c00bc29df17ce280aed64d55537e9/vaderSentiment-3.3.2-py2.py3-none-any.whl (125kB)\n",
            "\r\u001b[K     |██▋                             | 10kB 14.8MB/s eta 0:00:01\r\u001b[K     |█████▏                          | 20kB 10.4MB/s eta 0:00:01\r\u001b[K     |███████▉                        | 30kB 8.3MB/s eta 0:00:01\r\u001b[K     |██████████▍                     | 40kB 7.4MB/s eta 0:00:01\r\u001b[K     |█████████████                   | 51kB 4.4MB/s eta 0:00:01\r\u001b[K     |███████████████▋                | 61kB 4.8MB/s eta 0:00:01\r\u001b[K     |██████████████████▏             | 71kB 4.9MB/s eta 0:00:01\r\u001b[K     |████████████████████▉           | 81kB 5.2MB/s eta 0:00:01\r\u001b[K     |███████████████████████▍        | 92kB 5.6MB/s eta 0:00:01\r\u001b[K     |██████████████████████████      | 102kB 5.6MB/s eta 0:00:01\r\u001b[K     |████████████████████████████▋   | 112kB 5.6MB/s eta 0:00:01\r\u001b[K     |███████████████████████████████▏| 122kB 5.6MB/s eta 0:00:01\r\u001b[K     |████████████████████████████████| 133kB 5.6MB/s \n",
            "\u001b[?25hRequirement already satisfied: requests in /usr/local/lib/python3.7/dist-packages (from vaderSentiment) (2.23.0)\n",
            "Requirement already satisfied: urllib3!=1.25.0,!=1.25.1,<1.26,>=1.21.1 in /usr/local/lib/python3.7/dist-packages (from requests->vaderSentiment) (1.24.3)\n",
            "Requirement already satisfied: chardet<4,>=3.0.2 in /usr/local/lib/python3.7/dist-packages (from requests->vaderSentiment) (3.0.4)\n",
            "Requirement already satisfied: certifi>=2017.4.17 in /usr/local/lib/python3.7/dist-packages (from requests->vaderSentiment) (2020.12.5)\n",
            "Requirement already satisfied: idna<3,>=2.5 in /usr/local/lib/python3.7/dist-packages (from requests->vaderSentiment) (2.10)\n",
            "Installing collected packages: vaderSentiment\n",
            "Successfully installed vaderSentiment-3.3.2\n"
          ],
          "name": "stdout"
        }
      ]
    },
    {
      "cell_type": "code",
      "metadata": {
        "colab": {
          "base_uri": "https://localhost:8080/"
        },
        "id": "BhLippEOn6pT",
        "outputId": "bfe3c94e-8768-4097-aa25-85ebeccb6fd9"
      },
      "source": [
        "from vaderSentiment.vaderSentiment import SentimentIntensityAnalyzer\n",
        "vs=SentimentIntensityAnalyzer()\n",
        "text='The product is really good'\n",
        "vs.polarity_scores(text)"
      ],
      "execution_count": 2,
      "outputs": [
        {
          "output_type": "execute_result",
          "data": {
            "text/plain": [
              "{'compound': 0.4927, 'neg': 0.0, 'neu': 0.556, 'pos': 0.444}"
            ]
          },
          "metadata": {
            "tags": []
          },
          "execution_count": 2
        }
      ]
    },
    {
      "cell_type": "code",
      "metadata": {
        "id": "_kNA85wjn9JG"
      },
      "source": [
        "import requests\n",
        "from bs4 import BeautifulSoup\n",
        "import pandas as pd\n",
        "import numpy as np\n",
        "import os"
      ],
      "execution_count": 5,
      "outputs": []
    },
    {
      "cell_type": "code",
      "metadata": {
        "id": "2NIznHvDqvtC"
      },
      "source": [
        "urls=['https://inshorts.com/en/read/sports',\n",
        "      'https://inshorts.com/en/read/world',\n",
        "      'https://inshorts.com/en/read/technology',\n",
        "      'https://inshorts.com/en/read/national']\n",
        "def build_dataset(urls):\n",
        "  news_data=[]\n",
        "  for url in urls:\n",
        "    news_category=url.split('/')[-1]\n",
        "    data=requests.get(url)\n",
        "    soup=BeautifulSoup(data.content)\n",
        "    news_articles=[{'news_headline':headline.find('span',attrs={\"itemprop\":\"headline\"}).string,\n",
        "                    'news_article':article.find('div',attrs={\"itemprop\":\"articleBody\"}).string,\n",
        "                    'news_category':news_category}\n",
        "                    for headline,article in zip(soup.find_all('div',class_=[\"news-card-title news-right-box\"]),\n",
        "                     soup.find_all('div',class_=[\"news-card-content news-right-box\"]))]\n",
        "    news_articles=news_articles[0:20]\n",
        "    news_data.extend(news_articles)\n",
        "\n",
        "  df=pd.DataFrame(news_data)\n",
        "  df=df[['news_headline','news_article','news_category']]\n",
        "  return df"
      ],
      "execution_count": 6,
      "outputs": []
    },
    {
      "cell_type": "code",
      "metadata": {
        "colab": {
          "base_uri": "https://localhost:8080/",
          "height": 204
        },
        "id": "JgLsXk4jq7QW",
        "outputId": "c325d40a-6c45-427c-c3f3-f3fdf19689c3"
      },
      "source": [
        "df=build_dataset(urls)\n",
        "df.head()"
      ],
      "execution_count": 7,
      "outputs": [
        {
          "output_type": "execute_result",
          "data": {
            "text/html": [
              "<div>\n",
              "<style scoped>\n",
              "    .dataframe tbody tr th:only-of-type {\n",
              "        vertical-align: middle;\n",
              "    }\n",
              "\n",
              "    .dataframe tbody tr th {\n",
              "        vertical-align: top;\n",
              "    }\n",
              "\n",
              "    .dataframe thead th {\n",
              "        text-align: right;\n",
              "    }\n",
              "</style>\n",
              "<table border=\"1\" class=\"dataframe\">\n",
              "  <thead>\n",
              "    <tr style=\"text-align: right;\">\n",
              "      <th></th>\n",
              "      <th>news_headline</th>\n",
              "      <th>news_article</th>\n",
              "      <th>news_category</th>\n",
              "    </tr>\n",
              "  </thead>\n",
              "  <tbody>\n",
              "    <tr>\n",
              "      <th>0</th>\n",
              "      <td>Picture of Dwayne Bravo 'stealing' a run goes ...</td>\n",
              "      <td>A picture of CSK's Dwayne Bravo being way out ...</td>\n",
              "      <td>sports</td>\n",
              "    </tr>\n",
              "    <tr>\n",
              "      <th>1</th>\n",
              "      <td>Shubman's family receives Mahindra Thar gifted...</td>\n",
              "      <td>Team India batsman Shubman Gill took to social...</td>\n",
              "      <td>sports</td>\n",
              "    </tr>\n",
              "    <tr>\n",
              "      <th>2</th>\n",
              "      <td>Beckham responds to European Super League plan...</td>\n",
              "      <td>After 12 of Europe's leading football clubs in...</td>\n",
              "      <td>sports</td>\n",
              "    </tr>\n",
              "    <tr>\n",
              "      <th>3</th>\n",
              "      <td>RR get in ICU once Buttler and Samson are dism...</td>\n",
              "      <td>Ex-India batsman Aakash Chopra said Rajasthan ...</td>\n",
              "      <td>sports</td>\n",
              "    </tr>\n",
              "    <tr>\n",
              "      <th>4</th>\n",
              "      <td>Challenge would be to switch on mentally on Ch...</td>\n",
              "      <td>Ahead of playing Mumbai Indians at MA Chidamba...</td>\n",
              "      <td>sports</td>\n",
              "    </tr>\n",
              "  </tbody>\n",
              "</table>\n",
              "</div>"
            ],
            "text/plain": [
              "                                       news_headline  ... news_category\n",
              "0  Picture of Dwayne Bravo 'stealing' a run goes ...  ...        sports\n",
              "1  Shubman's family receives Mahindra Thar gifted...  ...        sports\n",
              "2  Beckham responds to European Super League plan...  ...        sports\n",
              "3  RR get in ICU once Buttler and Samson are dism...  ...        sports\n",
              "4  Challenge would be to switch on mentally on Ch...  ...        sports\n",
              "\n",
              "[5 rows x 3 columns]"
            ]
          },
          "metadata": {
            "tags": []
          },
          "execution_count": 7
        }
      ]
    },
    {
      "cell_type": "code",
      "metadata": {
        "id": "fqXA4wWxrEXq"
      },
      "source": [
        "df.to_csv('news.csv',index=False)\n"
      ],
      "execution_count": 8,
      "outputs": []
    },
    {
      "cell_type": "code",
      "metadata": {
        "colab": {
          "base_uri": "https://localhost:8080/",
          "height": 419
        },
        "id": "n4RbTHyRrLVE",
        "outputId": "b8cb2f89-6924-4ffb-eac2-e91704d5d432"
      },
      "source": [
        "df=pd.read_csv('/content/news.csv')\n",
        "df"
      ],
      "execution_count": 9,
      "outputs": [
        {
          "output_type": "execute_result",
          "data": {
            "text/html": [
              "<div>\n",
              "<style scoped>\n",
              "    .dataframe tbody tr th:only-of-type {\n",
              "        vertical-align: middle;\n",
              "    }\n",
              "\n",
              "    .dataframe tbody tr th {\n",
              "        vertical-align: top;\n",
              "    }\n",
              "\n",
              "    .dataframe thead th {\n",
              "        text-align: right;\n",
              "    }\n",
              "</style>\n",
              "<table border=\"1\" class=\"dataframe\">\n",
              "  <thead>\n",
              "    <tr style=\"text-align: right;\">\n",
              "      <th></th>\n",
              "      <th>news_headline</th>\n",
              "      <th>news_article</th>\n",
              "      <th>news_category</th>\n",
              "    </tr>\n",
              "  </thead>\n",
              "  <tbody>\n",
              "    <tr>\n",
              "      <th>0</th>\n",
              "      <td>Picture of Dwayne Bravo 'stealing' a run goes ...</td>\n",
              "      <td>A picture of CSK's Dwayne Bravo being way out ...</td>\n",
              "      <td>sports</td>\n",
              "    </tr>\n",
              "    <tr>\n",
              "      <th>1</th>\n",
              "      <td>Shubman's family receives Mahindra Thar gifted...</td>\n",
              "      <td>Team India batsman Shubman Gill took to social...</td>\n",
              "      <td>sports</td>\n",
              "    </tr>\n",
              "    <tr>\n",
              "      <th>2</th>\n",
              "      <td>Beckham responds to European Super League plan...</td>\n",
              "      <td>After 12 of Europe's leading football clubs in...</td>\n",
              "      <td>sports</td>\n",
              "    </tr>\n",
              "    <tr>\n",
              "      <th>3</th>\n",
              "      <td>RR get in ICU once Buttler and Samson are dism...</td>\n",
              "      <td>Ex-India batsman Aakash Chopra said Rajasthan ...</td>\n",
              "      <td>sports</td>\n",
              "    </tr>\n",
              "    <tr>\n",
              "      <th>4</th>\n",
              "      <td>Challenge would be to switch on mentally on Ch...</td>\n",
              "      <td>Ahead of playing Mumbai Indians at MA Chidamba...</td>\n",
              "      <td>sports</td>\n",
              "    </tr>\n",
              "    <tr>\n",
              "      <th>...</th>\n",
              "      <td>...</td>\n",
              "      <td>...</td>\n",
              "      <td>...</td>\n",
              "    </tr>\n",
              "    <tr>\n",
              "      <th>75</th>\n",
              "      <td>Govt restores 20 control rooms to address migr...</td>\n",
              "      <td>The Ministry of Labour and Employment has reju...</td>\n",
              "      <td>national</td>\n",
              "    </tr>\n",
              "    <tr>\n",
              "      <th>76</th>\n",
              "      <td>Impose 'weekend janata curfews' in Karnataka: ...</td>\n",
              "      <td>The COVID-19 Technical Advisory Committee (TAC...</td>\n",
              "      <td>national</td>\n",
              "    </tr>\n",
              "    <tr>\n",
              "      <th>77</th>\n",
              "      <td>COVID-19 2nd wave brought a lot of challenges:...</td>\n",
              "      <td>Maharashtra Health Minister Rajesh Tope on Tue...</td>\n",
              "      <td>national</td>\n",
              "    </tr>\n",
              "    <tr>\n",
              "      <th>78</th>\n",
              "      <td>Kerala's Kasargod withdraws 'COVID-19 negative...</td>\n",
              "      <td>The Kasargod District Collector has withdrawn ...</td>\n",
              "      <td>national</td>\n",
              "    </tr>\n",
              "    <tr>\n",
              "      <th>79</th>\n",
              "      <td>Will test, vaccinate protesting farmers agains...</td>\n",
              "      <td>Haryana Health Minister Anil Vij on Tuesday sa...</td>\n",
              "      <td>national</td>\n",
              "    </tr>\n",
              "  </tbody>\n",
              "</table>\n",
              "<p>80 rows × 3 columns</p>\n",
              "</div>"
            ],
            "text/plain": [
              "                                        news_headline  ... news_category\n",
              "0   Picture of Dwayne Bravo 'stealing' a run goes ...  ...        sports\n",
              "1   Shubman's family receives Mahindra Thar gifted...  ...        sports\n",
              "2   Beckham responds to European Super League plan...  ...        sports\n",
              "3   RR get in ICU once Buttler and Samson are dism...  ...        sports\n",
              "4   Challenge would be to switch on mentally on Ch...  ...        sports\n",
              "..                                                ...  ...           ...\n",
              "75  Govt restores 20 control rooms to address migr...  ...      national\n",
              "76  Impose 'weekend janata curfews' in Karnataka: ...  ...      national\n",
              "77  COVID-19 2nd wave brought a lot of challenges:...  ...      national\n",
              "78  Kerala's Kasargod withdraws 'COVID-19 negative...  ...      national\n",
              "79  Will test, vaccinate protesting farmers agains...  ...      national\n",
              "\n",
              "[80 rows x 3 columns]"
            ]
          },
          "metadata": {
            "tags": []
          },
          "execution_count": 9
        }
      ]
    },
    {
      "cell_type": "code",
      "metadata": {
        "colab": {
          "base_uri": "https://localhost:8080/"
        },
        "id": "I2UxXU6NrQF8",
        "outputId": "d11f4ef5-570f-4082-bf02-668492393675"
      },
      "source": [
        "import nltk\n",
        "nltk.download('stopwords')\n",
        "stopword_list=nltk.corpus.stopwords.words('english')\n",
        "stopword_list.remove(\"no\")\n",
        "stopword_list.remove(\"not\")\n",
        "len(stopword_list)"
      ],
      "execution_count": 10,
      "outputs": [
        {
          "output_type": "stream",
          "text": [
            "[nltk_data] Downloading package stopwords to /root/nltk_data...\n",
            "[nltk_data]   Unzipping corpora/stopwords.zip.\n"
          ],
          "name": "stdout"
        },
        {
          "output_type": "execute_result",
          "data": {
            "text/plain": [
              "177"
            ]
          },
          "metadata": {
            "tags": []
          },
          "execution_count": 10
        }
      ]
    },
    {
      "cell_type": "code",
      "metadata": {
        "id": "6lVt41U7rUs8"
      },
      "source": [
        "def html_tag(text):\n",
        "  soup=BeautifulSoup(text,\"html.parser\")\n",
        "  new_text=soup.get_text()\n",
        "  return new_text"
      ],
      "execution_count": 11,
      "outputs": []
    },
    {
      "cell_type": "code",
      "metadata": {
        "colab": {
          "base_uri": "https://localhost:8080/"
        },
        "id": "2GjsE9JdrbgB",
        "outputId": "5acfab87-e100-4bf7-e81c-038dfd61a7da"
      },
      "source": [
        "!pip install contractions"
      ],
      "execution_count": 12,
      "outputs": [
        {
          "output_type": "stream",
          "text": [
            "Collecting contractions\n",
            "  Downloading https://files.pythonhosted.org/packages/0a/04/d5e0bb9f2cef5d15616ebf68087a725c5dbdd71bd422bcfb35d709f98ce7/contractions-0.0.48-py2.py3-none-any.whl\n",
            "Collecting textsearch>=0.0.21\n",
            "  Downloading https://files.pythonhosted.org/packages/d3/fe/021d7d76961b5ceb9f8d022c4138461d83beff36c3938dc424586085e559/textsearch-0.0.21-py2.py3-none-any.whl\n",
            "Collecting pyahocorasick\n",
            "\u001b[?25l  Downloading https://files.pythonhosted.org/packages/7f/c2/eae730037ae1cbbfaa229d27030d1d5e34a1e41114b21447d1202ae9c220/pyahocorasick-1.4.2.tar.gz (321kB)\n",
            "\u001b[K     |████████████████████████████████| 327kB 5.2MB/s \n",
            "\u001b[?25hCollecting anyascii\n",
            "\u001b[?25l  Downloading https://files.pythonhosted.org/packages/a3/14/666cd44bf53f36a961544af592cb5c5c800013f9c51a4745af8d7c17362a/anyascii-0.2.0-py3-none-any.whl (283kB)\n",
            "\u001b[K     |████████████████████████████████| 286kB 7.2MB/s \n",
            "\u001b[?25hBuilding wheels for collected packages: pyahocorasick\n",
            "  Building wheel for pyahocorasick (setup.py) ... \u001b[?25l\u001b[?25hdone\n",
            "  Created wheel for pyahocorasick: filename=pyahocorasick-1.4.2-cp37-cp37m-linux_x86_64.whl size=85396 sha256=ac38a40cf9bd20df84aecf9af6fd0b0ff43daaec92304b887358a5443e3a67e7\n",
            "  Stored in directory: /root/.cache/pip/wheels/3a/03/34/77e3ece0bba8b86bfac88a79f923b36d805cad63caeba38842\n",
            "Successfully built pyahocorasick\n",
            "Installing collected packages: pyahocorasick, anyascii, textsearch, contractions\n",
            "Successfully installed anyascii-0.2.0 contractions-0.0.48 pyahocorasick-1.4.2 textsearch-0.0.21\n"
          ],
          "name": "stdout"
        }
      ]
    },
    {
      "cell_type": "code",
      "metadata": {
        "id": "IUIIpfjergwk"
      },
      "source": [
        "import contractions\n",
        "def con(text):\n",
        "  expand=contractions.fix(text)\n",
        "  return expand"
      ],
      "execution_count": 13,
      "outputs": []
    },
    {
      "cell_type": "code",
      "metadata": {
        "id": "rLWRb_kyrjB4"
      },
      "source": [
        "import re\n",
        "def remove_sp(text):\n",
        "  pattern=r'[^A-Za-z0-9\\s]'\n",
        "  text=re.sub(pattern,'',text)\n",
        "  return text"
      ],
      "execution_count": 14,
      "outputs": []
    },
    {
      "cell_type": "code",
      "metadata": {
        "id": "xnfAlG8vroiy"
      },
      "source": [
        "from nltk.tokenize.toktok import ToktokTokenizer\n",
        "tokenizer=ToktokTokenizer()"
      ],
      "execution_count": 15,
      "outputs": []
    },
    {
      "cell_type": "code",
      "metadata": {
        "id": "X_Ww8B0jrp8O"
      },
      "source": [
        "def remove_stopwords(text):\n",
        "  tokens=tokenizer.tokenize(text)\n",
        "  tokens=[token.strip()for token in tokens]\n",
        "  filtered_tokens=[token for token in tokens if token not in stopword_list]\n",
        "  filtered_text=' '.join(filtered_tokens)\n",
        "  return filtered_text"
      ],
      "execution_count": 16,
      "outputs": []
    },
    {
      "cell_type": "code",
      "metadata": {
        "colab": {
          "base_uri": "https://localhost:8080/",
          "height": 204
        },
        "id": "DBTnsstertnJ",
        "outputId": "aee0f703-e5dc-4238-a16f-5440df90738f"
      },
      "source": [
        "df.news_headline=df.news_headline.apply(lambda x:x.lower())\n",
        "df.news_article=df.news_article.apply(lambda x:x.lower())\n",
        "\n",
        "df.news_headline=df.news_headline.apply(html_tag)\n",
        "df.news_article=df.news_article.apply(html_tag)\n",
        "\n",
        "df.news_headline=df.news_headline.apply(con)\n",
        "df.news_article=df.news_article.apply(con)\n",
        "\n",
        "df.news_headline=df.news_headline.apply(remove_sp)\n",
        "df.news_article=df.news_article.apply(remove_sp)\n",
        "\n",
        "df.news_headline=df.news_headline.apply(remove_stopwords)\n",
        "df.news_article=df.news_article.apply(remove_stopwords)\n",
        "\n",
        "df.head()"
      ],
      "execution_count": 17,
      "outputs": [
        {
          "output_type": "execute_result",
          "data": {
            "text/html": [
              "<div>\n",
              "<style scoped>\n",
              "    .dataframe tbody tr th:only-of-type {\n",
              "        vertical-align: middle;\n",
              "    }\n",
              "\n",
              "    .dataframe tbody tr th {\n",
              "        vertical-align: top;\n",
              "    }\n",
              "\n",
              "    .dataframe thead th {\n",
              "        text-align: right;\n",
              "    }\n",
              "</style>\n",
              "<table border=\"1\" class=\"dataframe\">\n",
              "  <thead>\n",
              "    <tr style=\"text-align: right;\">\n",
              "      <th></th>\n",
              "      <th>news_headline</th>\n",
              "      <th>news_article</th>\n",
              "      <th>news_category</th>\n",
              "    </tr>\n",
              "  </thead>\n",
              "  <tbody>\n",
              "    <tr>\n",
              "      <th>0</th>\n",
              "      <td>picture dwayne bravo stealing run goes viral p...</td>\n",
              "      <td>picture csks dwayne bravo way crease nonstrike...</td>\n",
              "      <td>sports</td>\n",
              "    </tr>\n",
              "    <tr>\n",
              "      <th>1</th>\n",
              "      <td>shubmans family receives mahindra thar gifted ...</td>\n",
              "      <td>team india batsman shubman gill took social me...</td>\n",
              "      <td>sports</td>\n",
              "    </tr>\n",
              "    <tr>\n",
              "      <th>2</th>\n",
              "      <td>beckham responds european super league plan sa...</td>\n",
              "      <td>12 europes leading football clubs including ma...</td>\n",
              "      <td>sports</td>\n",
              "    </tr>\n",
              "    <tr>\n",
              "      <th>3</th>\n",
              "      <td>rr get icu buttler samson dismissed aakash chopra</td>\n",
              "      <td>exindia batsman aakash chopra said rajasthan r...</td>\n",
              "      <td>sports</td>\n",
              "    </tr>\n",
              "    <tr>\n",
              "      <th>4</th>\n",
              "      <td>challenge would switch mentally chennai wicket...</td>\n",
              "      <td>ahead playing mumbai indians chidambaram stadi...</td>\n",
              "      <td>sports</td>\n",
              "    </tr>\n",
              "  </tbody>\n",
              "</table>\n",
              "</div>"
            ],
            "text/plain": [
              "                                       news_headline  ... news_category\n",
              "0  picture dwayne bravo stealing run goes viral p...  ...        sports\n",
              "1  shubmans family receives mahindra thar gifted ...  ...        sports\n",
              "2  beckham responds european super league plan sa...  ...        sports\n",
              "3  rr get icu buttler samson dismissed aakash chopra  ...        sports\n",
              "4  challenge would switch mentally chennai wicket...  ...        sports\n",
              "\n",
              "[5 rows x 3 columns]"
            ]
          },
          "metadata": {
            "tags": []
          },
          "execution_count": 17
        }
      ]
    },
    {
      "cell_type": "code",
      "metadata": {
        "id": "icvCSu2krytH"
      },
      "source": [
        "df['compound']=df['news_article'].apply(lambda x:vs.polarity_scores(x)['compound'])"
      ],
      "execution_count": 18,
      "outputs": []
    },
    {
      "cell_type": "code",
      "metadata": {
        "colab": {
          "base_uri": "https://localhost:8080/",
          "height": 419
        },
        "id": "8Ud5eflNr2Sf",
        "outputId": "9bf06e78-23e9-4a4d-971c-25a65316da7c"
      },
      "source": [
        "df"
      ],
      "execution_count": 19,
      "outputs": [
        {
          "output_type": "execute_result",
          "data": {
            "text/html": [
              "<div>\n",
              "<style scoped>\n",
              "    .dataframe tbody tr th:only-of-type {\n",
              "        vertical-align: middle;\n",
              "    }\n",
              "\n",
              "    .dataframe tbody tr th {\n",
              "        vertical-align: top;\n",
              "    }\n",
              "\n",
              "    .dataframe thead th {\n",
              "        text-align: right;\n",
              "    }\n",
              "</style>\n",
              "<table border=\"1\" class=\"dataframe\">\n",
              "  <thead>\n",
              "    <tr style=\"text-align: right;\">\n",
              "      <th></th>\n",
              "      <th>news_headline</th>\n",
              "      <th>news_article</th>\n",
              "      <th>news_category</th>\n",
              "      <th>compound</th>\n",
              "    </tr>\n",
              "  </thead>\n",
              "  <tbody>\n",
              "    <tr>\n",
              "      <th>0</th>\n",
              "      <td>picture dwayne bravo stealing run goes viral p...</td>\n",
              "      <td>picture csks dwayne bravo way crease nonstrike...</td>\n",
              "      <td>sports</td>\n",
              "      <td>-0.1823</td>\n",
              "    </tr>\n",
              "    <tr>\n",
              "      <th>1</th>\n",
              "      <td>shubmans family receives mahindra thar gifted ...</td>\n",
              "      <td>team india batsman shubman gill took social me...</td>\n",
              "      <td>sports</td>\n",
              "      <td>0.8555</td>\n",
              "    </tr>\n",
              "    <tr>\n",
              "      <th>2</th>\n",
              "      <td>beckham responds european super league plan sa...</td>\n",
              "      <td>12 europes leading football clubs including ma...</td>\n",
              "      <td>sports</td>\n",
              "      <td>0.9584</td>\n",
              "    </tr>\n",
              "    <tr>\n",
              "      <th>3</th>\n",
              "      <td>rr get icu buttler samson dismissed aakash chopra</td>\n",
              "      <td>exindia batsman aakash chopra said rajasthan r...</td>\n",
              "      <td>sports</td>\n",
              "      <td>-0.0516</td>\n",
              "    </tr>\n",
              "    <tr>\n",
              "      <th>4</th>\n",
              "      <td>challenge would switch mentally chennai wicket...</td>\n",
              "      <td>ahead playing mumbai indians chidambaram stadi...</td>\n",
              "      <td>sports</td>\n",
              "      <td>0.7096</td>\n",
              "    </tr>\n",
              "    <tr>\n",
              "      <th>...</th>\n",
              "      <td>...</td>\n",
              "      <td>...</td>\n",
              "      <td>...</td>\n",
              "      <td>...</td>\n",
              "    </tr>\n",
              "    <tr>\n",
              "      <th>75</th>\n",
              "      <td>govt restores 20 control rooms address migrant...</td>\n",
              "      <td>ministry labour employment rejuvenated 20 cont...</td>\n",
              "      <td>national</td>\n",
              "      <td>-0.6369</td>\n",
              "    </tr>\n",
              "    <tr>\n",
              "      <th>76</th>\n",
              "      <td>impose weekend janata curfews karnataka expert...</td>\n",
              "      <td>covid19 technical advisory committee tac const...</td>\n",
              "      <td>national</td>\n",
              "      <td>0.1027</td>\n",
              "    </tr>\n",
              "    <tr>\n",
              "      <th>77</th>\n",
              "      <td>covid19 2nd wave brought lot challenges mahara...</td>\n",
              "      <td>maharashtra health minister rajesh tope tuesda...</td>\n",
              "      <td>national</td>\n",
              "      <td>0.0516</td>\n",
              "    </tr>\n",
              "    <tr>\n",
              "      <th>78</th>\n",
              "      <td>keralas kasargod withdraws covid19 negative re...</td>\n",
              "      <td>kasargod district collector withdrawn order ma...</td>\n",
              "      <td>national</td>\n",
              "      <td>-0.5267</td>\n",
              "    </tr>\n",
              "    <tr>\n",
              "      <th>79</th>\n",
              "      <td>test vaccinate protesting farmers covid19 anil...</td>\n",
              "      <td>haryana health minister anil vij tuesday said ...</td>\n",
              "      <td>national</td>\n",
              "      <td>-0.8176</td>\n",
              "    </tr>\n",
              "  </tbody>\n",
              "</table>\n",
              "<p>80 rows × 4 columns</p>\n",
              "</div>"
            ],
            "text/plain": [
              "                                        news_headline  ... compound\n",
              "0   picture dwayne bravo stealing run goes viral p...  ...  -0.1823\n",
              "1   shubmans family receives mahindra thar gifted ...  ...   0.8555\n",
              "2   beckham responds european super league plan sa...  ...   0.9584\n",
              "3   rr get icu buttler samson dismissed aakash chopra  ...  -0.0516\n",
              "4   challenge would switch mentally chennai wicket...  ...   0.7096\n",
              "..                                                ...  ...      ...\n",
              "75  govt restores 20 control rooms address migrant...  ...  -0.6369\n",
              "76  impose weekend janata curfews karnataka expert...  ...   0.1027\n",
              "77  covid19 2nd wave brought lot challenges mahara...  ...   0.0516\n",
              "78  keralas kasargod withdraws covid19 negative re...  ...  -0.5267\n",
              "79  test vaccinate protesting farmers covid19 anil...  ...  -0.8176\n",
              "\n",
              "[80 rows x 4 columns]"
            ]
          },
          "metadata": {
            "tags": []
          },
          "execution_count": 19
        }
      ]
    },
    {
      "cell_type": "code",
      "metadata": {
        "id": "v_qbfrdyr5VV"
      },
      "source": [
        ""
      ],
      "execution_count": null,
      "outputs": []
    }
  ]
}